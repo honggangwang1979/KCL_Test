{
 "cells": [
  {
   "cell_type": "code",
   "execution_count": 39,
   "id": "6b5985b4-338b-4304-9ec3-ffdd58167c60",
   "metadata": {},
   "outputs": [],
   "source": [
    "import numpy as np\n",
    "\n",
    "def CreateMesh(Start_lon, End_lon, Step_lon, Start_lat, End_lat, Step_lat):\n",
    "    \n",
    "    # Make sure the steps fit exactly in the lon/lat range\n",
    "    if (End_lon - Start_lon) % Step_lon > 0 or (End_lat - Start_lat) % Step_lat > 0:\n",
    "        return Lat, Lon\n",
    "    \n",
    "    range_lat = (int) ((End_lat - Start_lat)/Step_lat)\n",
    "    range_lon = (int) ((End_lon - Start_lon)/Step_lon)\n",
    "    \n",
    "    Center_lon= []\n",
    "    Center_lat= []\n",
    "    for i in range(range_lon):\n",
    "        inner_lon=[]\n",
    "        inner_lat=[]\n",
    "        for j in range(range_lat):\n",
    "            tmp_lon = i*Step_lon + Step_lon/2.0\n",
    "            tmp_lat = j*Step_lat + Step_lat/2.0\n",
    "            inner_lon.append(tmp_lon)\n",
    "            inner_lat.append(tmp_lat)\n",
    "        Center_lon.append(inner_lon)\n",
    "        Center_lat.append(inner_lat)\n",
    "    return pd.DataFrame(Center_lon), pd.DataFrame(Center_lat)\n",
    "\n"
   ]
  },
  {
   "cell_type": "code",
   "execution_count": 46,
   "id": "da7ea1db-5f46-4280-ba2c-b9ceae5451bf",
   "metadata": {},
   "outputs": [
    {
     "name": "stdout",
     "output_type": "stream",
     "text": [
      "0.0\n",
      "error=0.110000\n"
     ]
    }
   ],
   "source": [
    "if __name__ == \"__main__\":\n",
    "    Center_lon,Center_lat = CreateMesh(-20,50,5,-45,45,5)\n",
    "    Grid_FRP = Center_lon-Center_lon\n",
    "    \n",
    "    \n",
    "    print(Grid_FRP.iloc[1][1])\n",
    "    print( \"error=%lf\" % (0.11))\n",
    "  "
   ]
  },
  {
   "cell_type": "code",
   "execution_count": null,
   "id": "2e05b89c-a3bc-4637-a9e0-9c8515d43e38",
   "metadata": {},
   "outputs": [],
   "source": []
  }
 ],
 "metadata": {
  "kernelspec": {
   "display_name": "Python 3 (ipykernel)",
   "language": "python",
   "name": "python3"
  },
  "language_info": {
   "codemirror_mode": {
    "name": "ipython",
    "version": 3
   },
   "file_extension": ".py",
   "mimetype": "text/x-python",
   "name": "python",
   "nbconvert_exporter": "python",
   "pygments_lexer": "ipython3",
   "version": "3.9.13"
  }
 },
 "nbformat": 4,
 "nbformat_minor": 5
}
